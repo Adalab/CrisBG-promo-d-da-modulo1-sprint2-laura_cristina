{
 "cells": [
  {
   "attachments": {},
   "cell_type": "markdown",
   "metadata": {},
   "source": [
    "### PRIMERA FUNCION\n",
    "### Esta función debe incluir el código que:\n",
    "\n",
    "- Nos muestre en que carpeta estamos trabajando.\n",
    "  \n",
    "- Cree una carpeta que se llame \"aprendiendo-ficheros\". ⚠️ Tened en cuenta que si la carpeta ya existe no la podemos crear, nos devolverá un error. Incluye en la función un programa que evite que nos de un error si la carpeta ya existe.\n",
    "Cree otra carpeta que se llame \"datos\" dentro de la carpeta \"aprendiendo-ficheros\". En esta carpeta \"datos\" guardaremos el fichero \"saludo.txt\" que os habéis descargado.\n",
    "Cambiad el directorio de trabajo a la carpeta \"datos\". Antes de seguir chequead que estáis trabajando en la carpeta \"datos\".\n",
    "Cambiad el nombre de la carpeta creada en el punto 2 a \"primera-toma-contacto\"\n",
    "\n",
    "- 💡 Pistas para resolver este ejercicio 💡 Esta función debe incluir el código que:\n",
    "- La función tendrá que recibir 3 parámetros:\n",
    "- El nombre del nombre de la primera carpeta\n",
    "- El nombre de la carpeta segunda carpeta\n",
    "- El nombre con el que queramos cambiar el nombre de la primera carpeta creada\n",
    "  \n",
    "- Para saber si las carpetas ya existen tendréis que usar lstdir(recordad que nos devuelve una lista de ficheros y carpetas).\n",
    "  \n",
    "- Para poder controlar los errores tendremos que usar un if loop, que si el fichero existe, nos devuelva un mensaje de que el fichero ya existe. En caso de que no exista, los deberéis crear y que la función nos muestre un mensaje de que se ha creado.\n",
    "  \n",
    "- Tendréis que ir cambiando de directorio para poder crear las carpetas y cambiar sus nombres."
   ]
  },
  {
   "cell_type": "code",
   "execution_count": 1,
   "metadata": {},
   "outputs": [],
   "source": [
    "#importamos la libreria\n",
    "import os "
   ]
  },
  {
   "cell_type": "code",
   "execution_count": 3,
   "metadata": {},
   "outputs": [
    {
     "name": "stdout",
     "output_type": "stream",
     "text": [
      "/Users/lauramadridsartoretto/Desktop/Adalab/Modulo1/Pairprogramming/Python-pair/Pair-Cristina-Laura\n"
     ]
    }
   ],
   "source": [
    "# ver donde estamos\n",
    "\n",
    "ubi_1 = os.getcwd()\n",
    "\n",
    "print(ubi_1)"
   ]
  },
  {
   "cell_type": "code",
   "execution_count": 6,
   "metadata": {},
   "outputs": [
    {
     "name": "stdout",
     "output_type": "stream",
     "text": [
      "error: esta carpeta ya existe\n"
     ]
    }
   ],
   "source": [
    "# hemos creado la carpeta \"aprendiendo_ficheros\" con el programa que nos de un error si la carpeta ya existe\n",
    "\n",
    "if \"aprendiendo_ficheros\" not in os.listdir():\n",
    "    os.mkdir(\"aprendiendo_ficheros\")\n",
    "    print(os.listdir())\n",
    "    \n",
    "else:\n",
    "    print(\"error: esta carpeta ya existe\")"
   ]
  },
  {
   "cell_type": "code",
   "execution_count": 7,
   "metadata": {},
   "outputs": [
    {
     "name": "stdout",
     "output_type": "stream",
     "text": [
      "['.DS_Store', 'Ejercicio-pyhton-modulo-1-pairing-ficheros.ipynb', 'aprendiendo_ficheros']\n"
     ]
    }
   ],
   "source": [
    "print(os.listdir())"
   ]
  },
  {
   "cell_type": "code",
   "execution_count": null,
   "metadata": {},
   "outputs": [],
   "source": [
    "# con esto nos movemos dentro de la carpeta aprendiendo_ficheros\n",
    "\n",
    "os.chdir(\"aprendiendo_ficheros/\")"
   ]
  },
  {
   "cell_type": "code",
   "execution_count": 11,
   "metadata": {},
   "outputs": [
    {
     "data": {
      "text/plain": [
       "'/Users/lauramadridsartoretto/Desktop/Adalab/Modulo1/Pairprogramming/Python-pair/Pair-Cristina-Laura/aprendiendo_ficheros'"
      ]
     },
     "execution_count": 11,
     "metadata": {},
     "output_type": "execute_result"
    }
   ],
   "source": [
    "# con esto revisamos que estamos en la ruta correcta\n",
    "\n",
    "os.getcwd()"
   ]
  },
  {
   "cell_type": "code",
   "execution_count": 12,
   "metadata": {},
   "outputs": [],
   "source": [
    "os.mkdir(\"datos\")"
   ]
  },
  {
   "cell_type": "code",
   "execution_count": 15,
   "metadata": {},
   "outputs": [
    {
     "ename": "FileNotFoundError",
     "evalue": "[Errno 2] No such file or directory: 'datos/'",
     "output_type": "error",
     "traceback": [
      "\u001b[0;31m---------------------------------------------------------------------------\u001b[0m",
      "\u001b[0;31mFileNotFoundError\u001b[0m                         Traceback (most recent call last)",
      "Cell \u001b[0;32mIn[15], line 1\u001b[0m\n\u001b[0;32m----> 1\u001b[0m os\u001b[39m.\u001b[39;49mchdir(\u001b[39m\"\u001b[39;49m\u001b[39mdatos/\u001b[39;49m\u001b[39m\"\u001b[39;49m)\n\u001b[1;32m      3\u001b[0m os\u001b[39m.\u001b[39mgetcwd()\n",
      "\u001b[0;31mFileNotFoundError\u001b[0m: [Errno 2] No such file or directory: 'datos/'"
     ]
    }
   ],
   "source": [
    "# con esto nos movemos dentro de la carpeta datos\n",
    "\n",
    "os.chdir(\"datos/\")\n"
   ]
  },
  {
   "cell_type": "code",
   "execution_count": 17,
   "metadata": {},
   "outputs": [
    {
     "data": {
      "text/plain": [
       "'/Users/lauramadridsartoretto/Desktop/Adalab/Modulo1/Pairprogramming/Python-pair/Pair-Cristina-Laura/aprendiendo_ficheros/datos'"
      ]
     },
     "execution_count": 17,
     "metadata": {},
     "output_type": "execute_result"
    }
   ],
   "source": [
    "os.getcwd()"
   ]
  },
  {
   "cell_type": "code",
   "execution_count": 26,
   "metadata": {},
   "outputs": [],
   "source": [
    "os.chdir(\"Pair-Cristina-Laura/\")"
   ]
  },
  {
   "cell_type": "code",
   "execution_count": 27,
   "metadata": {},
   "outputs": [
    {
     "data": {
      "text/plain": [
       "'/Users/lauramadridsartoretto/Desktop/Adalab/Modulo1/Pairprogramming/Python-pair/Pair-Cristina-Laura'"
      ]
     },
     "execution_count": 27,
     "metadata": {},
     "output_type": "execute_result"
    }
   ],
   "source": [
    "os.getcwd()"
   ]
  },
  {
   "cell_type": "code",
   "execution_count": 29,
   "metadata": {},
   "outputs": [],
   "source": [
    "os.rename(\"aprendiendo_ficheros\", \"primera_toma_contacto\")"
   ]
  },
  {
   "cell_type": "code",
   "execution_count": 30,
   "metadata": {},
   "outputs": [
    {
     "data": {
      "text/plain": [
       "'/Users/lauramadridsartoretto/Desktop/Adalab/Modulo1/Pairprogramming/Python-pair/Pair-Cristina-Laura'"
      ]
     },
     "execution_count": 30,
     "metadata": {},
     "output_type": "execute_result"
    }
   ],
   "source": [
    "os.getcwd()"
   ]
  },
  {
   "cell_type": "code",
   "execution_count": 31,
   "metadata": {},
   "outputs": [
    {
     "name": "stdout",
     "output_type": "stream",
     "text": [
      "['.DS_Store', 'Ejercicio-pyhton-modulo-1-pairing-ficheros.ipynb', 'primera_toma_contacto']\n"
     ]
    }
   ],
   "source": [
    "print(os.listdir())"
   ]
  },
  {
   "attachments": {},
   "cell_type": "markdown",
   "metadata": {},
   "source": [
    "### SEGUNDA FUNCION\n",
    "\n",
    "### 📌 Antes de empezar, recordad descargaros el fichero saludo.txt y guardarlo en el repo en el que estáis trabajando, dentro de una carpeta que se llame \"datos\".\n",
    "\n",
    "- Lea el fichero que se llame \"saludo.txt y muestre su contenido completo.\n",
    "Muestra la línea 4 del fichero\n",
    "\n",
    "- 💡 Pistas para resolver este ejercicio 💡\n",
    "\n",
    "- Antes de empezar, tendréis que saber cuál es vuestro directorio de trabajo.\n",
    "- Tened en cuenta en que carpeta estáis. Si vuestro directorio de trabajo no es \"datos\" tendréis que cambiarlo o poner la ruta relativa a la carpeta \"datos\".\n",
    "Usar if... else para evitar que se nos pare el código.\n",
    "- Para cambiar el fichero podréis usar el comando input para preguntar el usuario donde está el fichero y que se pueda usar la ruta relativa o absoluta."
   ]
  },
  {
   "cell_type": "code",
   "execution_count": 34,
   "metadata": {},
   "outputs": [
    {
     "name": "stdout",
     "output_type": "stream",
     "text": [
      "['.DS_Store', 'Ejercicio-pyhton-modulo-1-pairing-ficheros.ipynb', 'primera_toma_contacto']\n"
     ]
    }
   ],
   "source": [
    "print(os.listdir())"
   ]
  },
  {
   "cell_type": "code",
   "execution_count": 38,
   "metadata": {},
   "outputs": [],
   "source": [
    "os.chdir(\"/Users/lauramadridsartoretto/Desktop/Adalab/Modulo1/Pairprogramming/Python-pair/Pair-Cristina-Laura/primera_toma_contacto/datos/\")"
   ]
  },
  {
   "cell_type": "code",
   "execution_count": 39,
   "metadata": {},
   "outputs": [
    {
     "name": "stdout",
     "output_type": "stream",
     "text": [
      "['saludo.txt']\n"
     ]
    }
   ],
   "source": [
    "print(os.listdir())"
   ]
  },
  {
   "cell_type": "code",
   "execution_count": 42,
   "metadata": {},
   "outputs": [],
   "source": [
    "ubi_fic_eje = \"/Users/lauramadridsartoretto/Desktop/Adalab/Modulo1/Pairprogramming/Python-pair/Pair-Cristina-Laura/primera_toma_contacto/datos/saludo.txt\""
   ]
  },
  {
   "cell_type": "code",
   "execution_count": 45,
   "metadata": {},
   "outputs": [
    {
     "name": "stdout",
     "output_type": "stream",
     "text": [
      "Hola Adalabers!!!\n",
      "\n",
      "Estamos en la sesión de pair-programming para familiarizarnos con la gestión de carpetas y ficheros desde Python 🙂🌊\n",
      "\n",
      "Esto esta siendo suuuper divertidooooo\n"
     ]
    }
   ],
   "source": [
    "f = open(ubi_fic_eje)\n",
    "\n",
    "fic_completo = f.read()\n",
    "\n",
    "print(fic_completo)\n",
    "\n",
    "\n",
    "\n",
    "f.close()"
   ]
  },
  {
   "cell_type": "code",
   "execution_count": 58,
   "metadata": {},
   "outputs": [
    {
     "name": "stdout",
     "output_type": "stream",
     "text": [
      "['Hola Adalabers!!!\\n', '\\n', 'Estamos en la sesión de pair-programming para familiarizarnos con la gestión de carpetas y ficheros desde Python 🙂🌊\\n', '\\n', 'Esto esta siendo suuuper divertidooooo']\n"
     ]
    }
   ],
   "source": [
    "# terminar\n",
    "\n",
    "f = open(input(ubi_fic_eje))\n",
    "\n",
    "\n",
    "lineas_arc = f.readlines()\n",
    "\n",
    "print(lineas_arc)\n",
    "\n",
    "f.close()"
   ]
  },
  {
   "cell_type": "code",
   "execution_count": 60,
   "metadata": {},
   "outputs": [
    {
     "data": {
      "text/plain": [
       "'Esto esta siendo suuuper divertidooooo'"
      ]
     },
     "execution_count": 60,
     "metadata": {},
     "output_type": "execute_result"
    }
   ],
   "source": [
    "lineas_arc[4]"
   ]
  },
  {
   "attachments": {},
   "cell_type": "markdown",
   "metadata": {},
   "source": [
    "### BONUS: Lectura y escritura de ficheros\n",
    "\n",
    "- La función debe recibir 4 parámetros:\n",
    "  \n",
    "- Nombre del fichero, incluyendo la extensión.\n",
    "- Como queremos leer el fichero.\n",
    "- El encoding del fichero.\n",
    "- El contenido que queremos escribir en el fichero.\n",
    "  \n",
    "- Condiciones de la función:\n",
    "Si el fichero no existe, debe crearlo, insertar contenido y mostrar su contenido.\n",
    "Si el fichero existe pregunta al usuario si quiere sobreescribirlo. En caso de Si, sobreescribe el fichero, insertad contenido y leedlo. En caso de No, no hace nada.\n",
    "\n",
    "- 💡 Pistas 💡\n",
    "Para chequear si un fichero existe, podemos usar la función os.listdir() que devuelve una lista con los nombres de los ficheros que hay en un directorio.\n",
    "Para crear un fichero, podemos usar la función open() que recibe como parámetros el nombre del fichero, el modo de apertura y el encoding.\n",
    "Para chequear si el fichero existe debéis usar los for loops y el método in para comprobar si el nombre del fichero está en la lista de ficheros.\n",
    "Usar un input para preguntar al usuario si quiere sobreescribir el fichero.\n",
    "Para sobreescribir el fichero, podemos usar la función open() que recibe como parámetros el nombre del fichero, el modo de apertura y el encoding.\n",
    "Strings que cubren más que una línea tienen que ser iniciados y cerrados con tres comillas \"\"\"."
   ]
  },
  {
   "cell_type": "code",
   "execution_count": null,
   "metadata": {},
   "outputs": [],
   "source": []
  },
  {
   "attachments": {},
   "cell_type": "markdown",
   "metadata": {},
   "source": [
    "  ### En este ejercicio tendréis que crear una función que reciba el nombre del archivo xml y que devuelva lo siguiente:\n",
    "\n",
    "- Qué tag y atributos tiene el archivo xml.\n",
    "- La descripción de cada una de las películas que tenemos en ese archivo.\n",
    "- Los años en que fueron estrenadas las películas.\n",
    "\n",
    "- 💡 Pistas 💡\n",
    "- La función debe recibir un parámetro, el nombre del archivo xml.\n",
    "- Tendréis que utlizar un bucle for para recorrer todo el archivo xml y extraer la información que os pedimos.\n",
    "- Recordad el método .text para extraer el texto de un elemento."
   ]
  },
  {
   "cell_type": "code",
   "execution_count": 1,
   "metadata": {},
   "outputs": [],
   "source": [
    "import xml.etree.ElementTree as ET\n",
    "\n",
    "\n"
   ]
  },
  {
   "cell_type": "code",
   "execution_count": 7,
   "metadata": {},
   "outputs": [],
   "source": [
    "ubi_fic_xml = \"/Users/lauramadridsartoretto/Desktop/Adalab/Modulo1/Pairprogramming/Python-pair/Pair-Cristina-Laura/primera_toma_contacto/datos/peliculas.xml\""
   ]
  },
  {
   "cell_type": "code",
   "execution_count": 8,
   "metadata": {},
   "outputs": [],
   "source": [
    "tree = ET.parse(ubi_fic_xml)"
   ]
  },
  {
   "cell_type": "code",
   "execution_count": 12,
   "metadata": {},
   "outputs": [
    {
     "name": "stdout",
     "output_type": "stream",
     "text": [
      "<Element 'collection' at 0x10b6cd8f0>\n",
      "collection\n",
      "{}\n"
     ]
    }
   ],
   "source": [
    "root = tree.getroot()\n",
    "\n",
    "\n",
    "print(root)\n",
    "\n",
    "print(root.tag)\n",
    "\n",
    "print(root.attrib)\n",
    "\n"
   ]
  },
  {
   "cell_type": "code",
   "execution_count": 35,
   "metadata": {},
   "outputs": [],
   "source": [
    "def peliculas(ubi_fic_xml):\n",
    "\n",
    "    tree = ET.parse(ubi_fic_xml)\n",
    "    root = tree.getroot()\n",
    "\n",
    "    for child in root:\n",
    "        print(f\"La tag del nodo hijo es: {child.tag} y sus atributos son: {child.attrib}\")\n",
    "        for child1 in child:\n",
    "            print(f\"La tag del nodo nieto1 es:{child1.tag} y sus atributos son: {child1.attrib}\")\n",
    "            for child2 in child1:\n",
    "                print(f\"La tag del nodo nieto2 es:{child2.tag}  y sus atributos son: {child2.attrib}\")\n",
    "                for child3 in child2:\n",
    "                    print(f\"La tag del nodo nieto3 es:{child3.tag} y sus atributos son: {child3.attrib}\")\n",
    "                    if child3.tag == \"year\" or child3.tag == \"description\":\n",
    "                        print(f\"Año y descripcion {child3.text}\")\n",
    "            "
   ]
  },
  {
   "cell_type": "code",
   "execution_count": 36,
   "metadata": {},
   "outputs": [
    {
     "name": "stdout",
     "output_type": "stream",
     "text": [
      "La tag del nodo hijo es: genre y sus atributos son: {'category': 'Action'}\n",
      "La tag del nodo nieto1 es:decade y sus atributos son: {'years': '1980s'}\n",
      "La tag del nodo nieto2 es:movie  y sus atributos son: {'favorite': 'True', 'title': 'Indiana Jones: The raiders of the lost Ark'}\n",
      "La tag del nodo nieto3 es:format y sus atributos son: {'multiple': 'No'}\n",
      "La tag del nodo nieto3 es:year y sus atributos son: {}\n",
      "Año y descripcion 1981\n",
      "La tag del nodo nieto3 es:rating y sus atributos son: {}\n",
      "La tag del nodo nieto3 es:description y sus atributos son: {}\n",
      "Año y descripcion \n",
      "                'Archaeologist and adventurer Indiana Jones \n",
      "                is hired by the U.S. government to find the Ark of  the Covenant before the Nazis.'\n",
      "                \n",
      "La tag del nodo nieto2 es:movie  y sus atributos son: {'favorite': 'True', 'title': 'THE KARATE KID'}\n",
      "La tag del nodo nieto3 es:format y sus atributos son: {'multiple': 'Yes'}\n",
      "La tag del nodo nieto3 es:year y sus atributos son: {}\n",
      "Año y descripcion 1984\n",
      "La tag del nodo nieto3 es:rating y sus atributos son: {}\n",
      "La tag del nodo nieto3 es:description y sus atributos son: {}\n",
      "Año y descripcion None provided.\n",
      "La tag del nodo nieto2 es:movie  y sus atributos son: {'favorite': 'False', 'title': 'Back 2 the Future'}\n",
      "La tag del nodo nieto3 es:format y sus atributos son: {'multiple': 'False'}\n",
      "La tag del nodo nieto3 es:year y sus atributos son: {}\n",
      "Año y descripcion 1985\n",
      "La tag del nodo nieto3 es:rating y sus atributos son: {}\n",
      "La tag del nodo nieto3 es:description y sus atributos son: {}\n",
      "Año y descripcion Marty McFly\n",
      "La tag del nodo nieto1 es:decade y sus atributos son: {'years': '1990s'}\n",
      "La tag del nodo nieto2 es:movie  y sus atributos son: {'favorite': 'False', 'title': 'X-Men'}\n",
      "La tag del nodo nieto3 es:format y sus atributos son: {'multiple': 'Yes'}\n",
      "La tag del nodo nieto3 es:year y sus atributos son: {}\n",
      "Año y descripcion 2000\n",
      "La tag del nodo nieto3 es:rating y sus atributos son: {}\n",
      "La tag del nodo nieto3 es:description y sus atributos son: {}\n",
      "Año y descripcion Two mutants come to a private academy for their kind whose resident superhero team must oppose a terrorist organization with similar powers.\n",
      "La tag del nodo nieto2 es:movie  y sus atributos son: {'favorite': 'True', 'title': 'Batman Returns'}\n",
      "La tag del nodo nieto3 es:format y sus atributos son: {'multiple': 'No'}\n",
      "La tag del nodo nieto3 es:year y sus atributos son: {}\n",
      "Año y descripcion 1992\n",
      "La tag del nodo nieto3 es:rating y sus atributos son: {}\n",
      "La tag del nodo nieto3 es:description y sus atributos son: {}\n",
      "Año y descripcion NA.\n",
      "La tag del nodo nieto2 es:movie  y sus atributos son: {'favorite': 'False', 'title': 'Reservoir Dogs'}\n",
      "La tag del nodo nieto3 es:format y sus atributos son: {'multiple': 'No'}\n",
      "La tag del nodo nieto3 es:year y sus atributos son: {}\n",
      "Año y descripcion 1992\n",
      "La tag del nodo nieto3 es:rating y sus atributos son: {}\n",
      "La tag del nodo nieto3 es:description y sus atributos son: {}\n",
      "Año y descripcion WhAtEvER I Want!!!?!\n",
      "La tag del nodo hijo es: genre y sus atributos son: {'category': 'Thriller'}\n",
      "La tag del nodo nieto1 es:decade y sus atributos son: {'years': '1970s'}\n",
      "La tag del nodo nieto2 es:movie  y sus atributos son: {'favorite': 'False', 'title': 'ALIEN'}\n",
      "La tag del nodo nieto3 es:format y sus atributos son: {'multiple': 'Yes'}\n",
      "La tag del nodo nieto3 es:year y sus atributos son: {}\n",
      "Año y descripcion 1979\n",
      "La tag del nodo nieto3 es:rating y sus atributos son: {}\n",
      "La tag del nodo nieto3 es:description y sus atributos son: {}\n",
      "Año y descripcion \"\"\"\"\"\"\"\"\"\n",
      "La tag del nodo nieto1 es:decade y sus atributos son: {'years': '1980s'}\n",
      "La tag del nodo nieto2 es:movie  y sus atributos son: {'favorite': 'True', 'title': \"Ferris Bueller's Day Off\"}\n",
      "La tag del nodo nieto3 es:format y sus atributos son: {'multiple': 'No'}\n",
      "La tag del nodo nieto3 es:year y sus atributos son: {}\n",
      "Año y descripcion 1986\n",
      "La tag del nodo nieto3 es:rating y sus atributos son: {}\n",
      "La tag del nodo nieto3 es:description y sus atributos son: {}\n",
      "Año y descripcion Funny movie on funny guy \n",
      "La tag del nodo nieto2 es:movie  y sus atributos son: {'favorite': 'FALSE', 'title': 'American Psycho'}\n",
      "La tag del nodo nieto3 es:format y sus atributos son: {'multiple': 'No'}\n",
      "La tag del nodo nieto3 es:year y sus atributos son: {}\n",
      "Año y descripcion 2000\n",
      "La tag del nodo nieto3 es:rating y sus atributos son: {}\n",
      "La tag del nodo nieto3 es:description y sus atributos son: {}\n",
      "Año y descripcion psychopathic Bateman\n"
     ]
    }
   ],
   "source": [
    "peliculas( \"/Users/lauramadridsartoretto/Desktop/Adalab/Modulo1/Pairprogramming/Python-pair/Pair-Cristina-Laura/primera_toma_contacto/datos/peliculas.xml\")"
   ]
  }
 ],
 "metadata": {
  "kernelspec": {
   "display_name": "Python 3",
   "language": "python",
   "name": "python3"
  },
  "language_info": {
   "codemirror_mode": {
    "name": "ipython",
    "version": 3
   },
   "file_extension": ".py",
   "mimetype": "text/x-python",
   "name": "python",
   "nbconvert_exporter": "python",
   "pygments_lexer": "ipython3",
   "version": "3.11.0"
  },
  "orig_nbformat": 4,
  "vscode": {
   "interpreter": {
    "hash": "aee8b7b246df8f9039afb4144a1f6fd8d2ca17a180786b69acc140d282b71a49"
   }
  }
 },
 "nbformat": 4,
 "nbformat_minor": 2
}
