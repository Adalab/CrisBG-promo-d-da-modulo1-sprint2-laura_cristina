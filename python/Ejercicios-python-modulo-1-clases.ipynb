{
 "cells": [
  {
   "attachments": {},
   "cell_type": "markdown",
   "metadata": {},
   "source": [
    "En este ejercicio de pair programming crearemos una clase. Imaginemos que nuestro jefe nos pide que creemos una clase para tener más ordenada la información sobre cada uno de los empleados de la empresa. Para ello:\n",
    "\n",
    "  ## Definid una clase que se llame Empleados\n",
    "  ### Definid los siguientes atributos que caracterizan a nuestros empleados:\n",
    "-  nombre\n",
    "-  apellido\n",
    "-  edad\n",
    "-  posición que ocupa en la empresa\n",
    "-  año en que entró en la empresa\n",
    "-  número de días de vacaciones que tiene\n",
    "-  Las herramientas que usa cada uno de ellos, por ejemplo, Outlook, excel y word. Deberá ser una lista.\n",
    "  \n",
    "  ## Cread una instancia para la clase creada\n",
    "  ### Definid los siguientes métodos:\n",
    "- descripción\n",
    "- calculo_vacaciones\n",
    "- cambiando_posicion"
   ]
  },
  {
   "cell_type": "code",
   "execution_count": 37,
   "metadata": {},
   "outputs": [],
   "source": [
    "class Empleados:\n",
    "\n",
    "    # podemos entender el constructor como los parámetros de las funciones. Es decir, ¿qué parámetros van a ser los que determinen las carácteristicas de nuestra mascota?\n",
    "    def __init__(self, nombre, apellido, edad, posicion, año, dias_vacas, herramientas):\n",
    "\n",
    "        # lo primero que querremos definir es que tipo de animal es. \n",
    "        self.nombre = nombre\n",
    "        \n",
    "        self.apellido = apellido\n",
    "\n",
    "        # qué edad tiene\n",
    "        self.edad = edad\n",
    "\n",
    "        # y cuál es su raza\n",
    "        self.posicion = posicion\n",
    "\n",
    "        # al igual que en las funciones podíamos utilizar parámetros por defecto, en el caso de las clases también lo podemos hacer, como lo hacemos en la siguiente línea de código. \n",
    "        self.año = año\n",
    "        \n",
    "        self.dias_vacas = dias_vacas\n",
    "        \n",
    "        self.herramientas = list(herramientas)\n",
    "        \n",
    "        \n",
    "        "
   ]
  },
  {
   "cell_type": "code",
   "execution_count": 38,
   "metadata": {},
   "outputs": [],
   "source": [
    "trabajadora1 = Empleados(\"Laura\", \"Madrid\", 40, \"sales\", 2023, 30, [\"sql\", \"office\", \"python\"]  )"
   ]
  },
  {
   "cell_type": "code",
   "execution_count": 39,
   "metadata": {},
   "outputs": [
    {
     "data": {
      "text/plain": [
       "'Laura'"
      ]
     },
     "execution_count": 39,
     "metadata": {},
     "output_type": "execute_result"
    }
   ],
   "source": [
    "trabajadora1.nombre"
   ]
  },
  {
   "cell_type": "code",
   "execution_count": 40,
   "metadata": {},
   "outputs": [],
   "source": [
    "def descripcion(self):\n",
    "    return (f\"El/ella, es {self.nombre}, {self.posicion}, quien lleva con nosotros en la empresa desde {self.año}. Además este año le quedan {self.dias_vacas} dias de vacaciones\")"
   ]
  },
  {
   "cell_type": "code",
   "execution_count": 41,
   "metadata": {},
   "outputs": [
    {
     "data": {
      "text/plain": [
       "'El/ella, es Laura, sales, quien lleva con nosotros en la empresa desde 2023. Además este año le quedan 30 dias de vacaciones'"
      ]
     },
     "execution_count": 41,
     "metadata": {},
     "output_type": "execute_result"
    }
   ],
   "source": [
    "descripcion(trabajadora1)"
   ]
  },
  {
   "attachments": {},
   "cell_type": "markdown",
   "metadata": {},
   "source": [
    "### Método calculo_vacaciones:\n",
    "- Deberá contener input que nos pregunte cuántos días te quieres ir de vacaciones.\n",
    "- Luego deberemos restar el número de días que se fue de vacaciones a el número total de vacaciones que tiene ese empleado.\n",
    "- Una condición que chequee si:\n",
    "- Si el numero de vacaciones que tiene el empleado es igual a 0, devolved un mensaje que diga que se le acabaron las vacaciones\n",
    "- Si el número de días que se quiere ir de vacaciones es mayor que el número de vacaciones que le quedan, devolved un mensaje que diga que no se puede ir tantos de vacaciones\n",
    "- En caso de que no se cumplan ninguna de estas condiciones, que nos devuelva el número de vacaciones que le quedan al empleado."
   ]
  },
  {
   "cell_type": "code",
   "execution_count": 42,
   "metadata": {},
   "outputs": [],
   "source": [
    "def calculo_vacaciones(self):\n",
    "    vacaciones_pedidas = input(\"¿Cuantos días te quieres ir de vacaciones?\")\n",
    "    \n",
    "    if self.dias_vacas == 0:\n",
    "        vacaciones = print(\"Se te acabaran las vacaciones\")\n",
    "    \n",
    "    elif self.dias_vacas < int(vacaciones_pedidas):  \n",
    "        vacaciones = print(\"No puedes cogerte tantos días de vacaciones\")\n",
    "    \n",
    "    else:   \n",
    "        vacaciones = self.dias_vacas - int(vacaciones_pedidas)\n",
    "    \n",
    "    return vacaciones"
   ]
  },
  {
   "cell_type": "code",
   "execution_count": 43,
   "metadata": {},
   "outputs": [
    {
     "data": {
      "text/plain": [
       "8"
      ]
     },
     "execution_count": 43,
     "metadata": {},
     "output_type": "execute_result"
    }
   ],
   "source": [
    "calculo_vacaciones(trabajadora1)"
   ]
  },
  {
   "attachments": {},
   "cell_type": "markdown",
   "metadata": {},
   "source": [
    "### Método cambiando_posicion:\n",
    "- Iteraremos por la lista de herramientas que usa el empleado:\n",
    "- Si el empleado usa \"Python\" devolveremos un mensaje de bien hecho!\n",
    "- Si el empleado usa \"Excel\" le recomendaremos amigablemente que deje excel y empiece a usar Excel"
   ]
  },
  {
   "cell_type": "code",
   "execution_count": 44,
   "metadata": {},
   "outputs": [],
   "source": [
    "def cambiando_posicion(self):\n",
    "    for i in self.herramientas:\n",
    "        if i == \"python\":\n",
    "            resultado = print(\"¡Bien hecho!\")\n",
    "        \n",
    "        if i == \"excel\":\n",
    "            resultado = print(\"Por favor, usad python\")\n",
    "\n",
    "    return resultado"
   ]
  },
  {
   "cell_type": "code",
   "execution_count": 45,
   "metadata": {},
   "outputs": [
    {
     "name": "stdout",
     "output_type": "stream",
     "text": [
      "¡Bien hecho!\n"
     ]
    }
   ],
   "source": [
    "cambiando_posicion(trabajadora1)"
   ]
  },
  {
   "attachments": {},
   "cell_type": "markdown",
   "metadata": {},
   "source": []
  },
  {
   "cell_type": "code",
   "execution_count": 46,
   "metadata": {},
   "outputs": [
    {
     "ename": "SyntaxError",
     "evalue": "unterminated string literal (detected at line 1) (244906753.py, line 1)",
     "output_type": "error",
     "traceback": [
      "\u001b[0;36m  Cell \u001b[0;32mIn[46], line 1\u001b[0;36m\u001b[0m\n\u001b[0;31m    \"El/ella, es Lorena, Data Analyst, quien lleva con nostros en la empresa desde 2000.\u001b[0m\n\u001b[0m    ^\u001b[0m\n\u001b[0;31mSyntaxError\u001b[0m\u001b[0;31m:\u001b[0m unterminated string literal (detected at line 1)\n"
     ]
    }
   ],
   "source": [
    "\"El/ella, es Lorena, Data Analyst, quien lleva con nostros en la empresa desde 2000. \n",
    "Además este año le quedan 15 dias de vacaciones\""
   ]
  }
 ],
 "metadata": {
  "kernelspec": {
   "display_name": "Python 3",
   "language": "python",
   "name": "python3"
  },
  "language_info": {
   "codemirror_mode": {
    "name": "ipython",
    "version": 3
   },
   "file_extension": ".py",
   "mimetype": "text/x-python",
   "name": "python",
   "nbconvert_exporter": "python",
   "pygments_lexer": "ipython3",
   "version": "3.11.0"
  },
  "orig_nbformat": 4,
  "vscode": {
   "interpreter": {
    "hash": "aee8b7b246df8f9039afb4144a1f6fd8d2ca17a180786b69acc140d282b71a49"
   }
  }
 },
 "nbformat": 4,
 "nbformat_minor": 2
}
