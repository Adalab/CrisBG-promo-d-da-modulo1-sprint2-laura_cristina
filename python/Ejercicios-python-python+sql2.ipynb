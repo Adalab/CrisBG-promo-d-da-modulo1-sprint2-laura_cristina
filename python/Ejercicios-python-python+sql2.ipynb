{
 "cells": [
  {
   "attachments": {},
   "cell_type": "markdown",
   "metadata": {},
   "source": [
    "### Objetivos\n",
    "- Durante la clase de pair programming de creación de tablas de SQL nos creamos nuestra primerita BBDD desde cero en Workbench. En el ejercicio de hoy volveremos a crear esa misma BBDD, pero esta vez desde Python.\n",
    "  \n",
    "- 📌 NOTA Utilizad el nombre de la BBDD de mi_primerita_BBDD_Python\n",
    "  \n",
    "- 📌 NOTA Cuando creeis las distintas tablas de vuestra BBDD repetereis la mismas lineas de código una y otra vez. Para evitar esto, crearos una función que nos sirva para crear tablas independientemente del contenido de la tabla. La función recibirá como parámetros:\n",
    "  \n",
    "    - Contraseña de la conexión al servidor.\n",
    "    - Query para crear la tabla.\n",
    "  \n",
    "## A modo de recap de lo que contenía la BBDD:\n",
    "###  Tabla Zapatillas: tiene 4 columnas: id, modelo, color, talla con las siguientes características:\n",
    "- idZapatillas: es una clave primaria de tipo int, autoincremental y no nula.\n",
    "- Modelo: es una cadena de caracteres de longitud máxima de 45 caracteres, no nula.\n",
    "- Color: es una cadena de caracteres de longitud máxima de 45 caracteres, no nula.\n",
    "- Talla: es entero, no nula.\n",
    "  \n",
    "### Tabla Clientes: tiene 9 columnas idcliente, nombre, numero_telefono, email, direccion, ciudad, provincia, pais, - codigo_postal con las siguientes características:\n",
    "- idCliente: es una clave primaria de tipo int, autoincremental y no nula.\n",
    "- Nombre: es una cadena de caracteres de longitud máxima de 45 caracteres, no nula.\n",
    "- Numero_telefono: es un entero de longitud máxima de 9 caracteres, no nula.\n",
    "- Email: es una cadena de caracteres de longitud máxima de 45 caracteres, no nula.\n",
    "- Direccion: es una cadena de caracteres de longitud máxima de 45 caracteres, no nula.\n",
    "- Ciudad: es una cadena de caracteres de longitud máxima de 45 caracteres, puede ser nula.\n",
    "- Provincia: es una cadena de caracteres de longitud máxima de 45 caracteres, no nula.\n",
    "- Pais: es una cadena de caracteres de longitud máxima de 45 caracteres, no nula.\n",
    "- Codigo_postal: entero de máxima longitud 9, no nula.\n",
    "  \n",
    "### Tabla Empleados: tiene 5 columnas idEmpleado, nombre, tienda, salario, fecha_incorporacion con las siguientes características:\n",
    "- idEmpleado: es una clave primaria de tipo int, autoincremental y no nula.\n",
    "- Nombre: es una cadena de caracteres de longitud máxima de 45 caracteres, no nula.\n",
    "- Tienda: es una cadena de caracteres de longitud máxima de 45 caracteres, no nula.\n",
    "- salario: es decimal, puede ser nula.\n",
    "- fecha_incorporacion: es una columna de tipo date, no nula.\n",
    "\n",
    "### Tabla Facturas: tiene 5 columnas idFactura, idEmpleado, idCliente, fecha, total con las siguientes características:\n",
    "- idFactura: es una clave primaria de tipo int, autoincremental y no nula.\n",
    "- idEmpleado: es una clave foránea de tipo int, no nula.\n",
    "- idCliente: es una clave foránea de tipo int, no nula.\n",
    "- idZapatilla: es una clave foránea de tipo int, no nula\n",
    "- Fecha: es una columna de tipo date, no nula.\n",
    "- Total: es decimal, no nula.\n",
    "\n",
    "\n",
    "### 📌 NOTA En esta última tabla tendremos que incluir todos los CONSTRAINTnecesarios para establecer los relaciones entre las tablas, donde tendremos que especificar:\n",
    "- Foreign Key\n",
    "- References"
   ]
  },
  {
   "cell_type": "code",
   "execution_count": null,
   "metadata": {},
   "outputs": [],
   "source": []
  },
  {
   "cell_type": "code",
   "execution_count": 7,
   "metadata": {},
   "outputs": [],
   "source": [
    "def creacion_basedatos(contraseña, sql):\n",
    "  \n",
    "    import mysql.connector\n",
    "    \n",
    "    \n",
    "    cnx = mysql.connector.connect(user='root', password = contraseña,\n",
    "                              host='127.0.0.1')\n",
    "    \n",
    "    mycursor = cnx.cursor()\n",
    "    \n",
    "    \n",
    "    try:\n",
    "        mycursor.execute(sql)\n",
    "        print(mycursor)\n",
    "    except mysql.connector.Error as err:\n",
    "        print(err)\n",
    "        print(\"Error Code:\", err.errno)\n",
    "        print(\"SQLSTATE\", err.sqlstate)\n",
    "        print(\"Message\", err.msg)\n",
    "    \n"
   ]
  },
  {
   "cell_type": "code",
   "execution_count": 3,
   "metadata": {},
   "outputs": [],
   "source": [
    "database1 = \"CREATE DATABASE mi_primerita_BBDD_Python\""
   ]
  },
  {
   "cell_type": "code",
   "execution_count": 4,
   "metadata": {},
   "outputs": [
    {
     "name": "stdout",
     "output_type": "stream",
     "text": [
      "CMySQLCursor: CREATE DATABASE mi_primerita_BBDD_Python\n"
     ]
    }
   ],
   "source": [
    "creacion_basedatos('AlumnaAdalab', database1)"
   ]
  },
  {
   "cell_type": "code",
   "execution_count": 8,
   "metadata": {},
   "outputs": [],
   "source": [
    "def creacion_tablas(contraseña, sql):\n",
    "  \n",
    "    import mysql.connector\n",
    "    \n",
    "    \n",
    "    cnx = mysql.connector.connect(user='root', password = contraseña,\n",
    "                              host='127.0.0.1', database = 'mi_primerita_BBDD_Python')\n",
    "    \n",
    "    mycursor = cnx.cursor()\n",
    "    \n",
    "    \n",
    "    try:\n",
    "        mycursor.execute(sql)\n",
    "        print(mycursor)\n",
    "    except mysql.connector.Error as err:\n",
    "        print(err)\n",
    "        print(\"Error Code:\", err.errno)\n",
    "        print(\"SQLSTATE\", err.sqlstate)\n",
    "        print(\"Message\", err.msg)"
   ]
  },
  {
   "cell_type": "code",
   "execution_count": 9,
   "metadata": {},
   "outputs": [],
   "source": [
    "tabla_zapatillas = (\"CREATE TABLE zapatillas (id_zapatillas INT AUTO_INCREMENT NOT NULL PRIMARY KEY, modelo VARCHAR(45) NOT NULL, color VARCHAR(45) NOT NULL, talla INT NOT NULL)\")"
   ]
  },
  {
   "cell_type": "code",
   "execution_count": 10,
   "metadata": {},
   "outputs": [
    {
     "name": "stdout",
     "output_type": "stream",
     "text": [
      "CMySQLCursor: CREATE TABLE zapatillas (id_zapatillas I..\n"
     ]
    }
   ],
   "source": [
    "creacion_tablas('AlumnaAdalab', tabla_zapatillas)"
   ]
  },
  {
   "cell_type": "code",
   "execution_count": 11,
   "metadata": {},
   "outputs": [],
   "source": [
    "tabla_clientes = (\"CREATE TABLE clientes (id_cliente INT AUTO_INCREMENT NOT NULL PRIMARY KEY, nombre VARCHAR(45) NOT NULL, numero_telefono INT(9) NOT NULL, email VARCHAR(45) NOT NULL, direccion VARCHAR(45) NOT NULL, ciudad VARCHAR(45) NOT NULL, provincia VARCHAR(45) NOT NULL, pais VARCHAR(45) NOT NULL, codigo_postal INT(9) NOT NULL)\")"
   ]
  },
  {
   "cell_type": "code",
   "execution_count": 12,
   "metadata": {},
   "outputs": [
    {
     "name": "stdout",
     "output_type": "stream",
     "text": [
      "CMySQLCursor: CREATE TABLE clientes (id_cliente INT AU..\n"
     ]
    }
   ],
   "source": [
    "creacion_tablas('AlumnaAdalab', tabla_clientes)"
   ]
  },
  {
   "cell_type": "code",
   "execution_count": 13,
   "metadata": {},
   "outputs": [],
   "source": [
    "tabla_empleados = (\"CREATE TABLE empleados (id_empleado INT AUTO_INCREMENT NOT NULL PRIMARY KEY, nombre VARCHAR(45) NOT NULL, tienda VARCHAR(45) NOT NULL, salario DECIMAL, fecha_incorporacion DATE NOT NULL)\")"
   ]
  },
  {
   "cell_type": "code",
   "execution_count": 14,
   "metadata": {},
   "outputs": [
    {
     "name": "stdout",
     "output_type": "stream",
     "text": [
      "CMySQLCursor: CREATE TABLE empleados (id_empleado INT ..\n"
     ]
    }
   ],
   "source": [
    "creacion_tablas('AlumnaAdalab', tabla_empleados)"
   ]
  },
  {
   "cell_type": "code",
   "execution_count": 19,
   "metadata": {},
   "outputs": [],
   "source": [
    "tabla_facturas = (\"\"\"CREATE TABLE facturas (id_factura INT AUTO_INCREMENT NOT NULL PRIMARY KEY, id_empleado INT NOT NULL, \n",
    "                  id_cliente INT NOT NULL, id_zapatillas INT NOT NULL, fecha DATE NOT NULL, total DECIMAL NOT NULL, \n",
    "                  CONSTRAINT `fk_empleado_factura` FOREIGN KEY (id_empleado) REFERENCES empleados (id_empleado),\n",
    "                  CONSTRAINT `fk_cliente_factura` FOREIGN KEY (id_cliente) REFERENCES clientes (id_cliente),\n",
    "                  CONSTRAINT `fk_zapatillas_factura` FOREIGN KEY (id_zapatillas) REFERENCES zapatillas (id_zapatillas) \n",
    "                  ON UPDATE CASCADE ON DELETE CASCADE)\"\"\")"
   ]
  },
  {
   "cell_type": "code",
   "execution_count": 20,
   "metadata": {},
   "outputs": [
    {
     "name": "stdout",
     "output_type": "stream",
     "text": [
      "CMySQLCursor: CREATE TABLE facturas (id_factura INT AU..\n"
     ]
    }
   ],
   "source": [
    "creacion_tablas('AlumnaAdalab', tabla_facturas)"
   ]
  }
 ],
 "metadata": {
  "kernelspec": {
   "display_name": "Python 3",
   "language": "python",
   "name": "python3"
  },
  "language_info": {
   "codemirror_mode": {
    "name": "ipython",
    "version": 3
   },
   "file_extension": ".py",
   "mimetype": "text/x-python",
   "name": "python",
   "nbconvert_exporter": "python",
   "pygments_lexer": "ipython3",
   "version": "3.11.0"
  },
  "orig_nbformat": 4
 },
 "nbformat": 4,
 "nbformat_minor": 2
}
