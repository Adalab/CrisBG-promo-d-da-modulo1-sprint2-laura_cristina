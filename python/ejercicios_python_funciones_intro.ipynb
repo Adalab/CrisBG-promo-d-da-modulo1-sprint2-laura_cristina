{
 "cells": [
  {
   "attachments": {},
   "cell_type": "markdown",
   "metadata": {},
   "source": [
    "\n",
    "\n",
    "\n",
    "```"
   ]
  },
  {
   "attachments": {},
   "cell_type": "markdown",
   "metadata": {},
   "source": [
    "1. Cread una función que reciba 2 números enteros en forma de string como entrada, y dé como resultado la suma (también en forma de string)\n",
    "   \n",
    "Condiciones:\n",
    "\n",
    "- Si los dos parámetros que recibe la función son strings vacíos la función nos debe devolver \"0\"\n",
    "- Si el primer parámetro es un string vacío, la función nos devuelve el valor del segundo parámetro y viceversa.\n",
    "\n",
    "- Probad la función para las siguientes combinaciones de \"números\"\n",
    "\n",
    "​\n",
    "- Parámetros que recibe la función: \"4\",  \"5\" --> Output esperado: \"9\"\n",
    "\n",
    "- Parámetros que recibe la función: \"34\", \"5\" --> Output esperado: \"39\"\n",
    "\n",
    "- Parámetros que recibe la función: \"\", \"\" --> Output esperado: \"0\"\n",
    "\n",
    "- Parámetros que recibe la función: \"2\", \"\" --> Output esperado: \"2\"\n",
    "\n",
    "- Parámetros que recibe la función: \"-5\", \"3\" --> Output esperado: \"-2\"\n"
   ]
  },
  {
   "cell_type": "code",
   "execution_count": 7,
   "metadata": {},
   "outputs": [],
   "source": [
    "def suma(a,b):\n",
    "        \n",
    "    if a == (\"\") and b == (\"\"):\n",
    "        resultado = 0\n",
    "    elif a == (\"\"):\n",
    "        resultado = b\n",
    "    elif b == (\"\"):\n",
    "        resultado = a\n",
    "    else: \n",
    "        resultado = int(a) + int(b)\n",
    "        resultado = str(resultado)\n",
    "        \n",
    "    return resultado"
   ]
  },
  {
   "cell_type": "code",
   "execution_count": 8,
   "metadata": {},
   "outputs": [
    {
     "name": "stdout",
     "output_type": "stream",
     "text": [
      "9\n",
      "39\n",
      "0\n",
      "2\n",
      "-2\n",
      "6\n"
     ]
    }
   ],
   "source": [
    "\n",
    "\n",
    "print(suma(\"4\", \"5\"))\n",
    "\n",
    "print(suma(\"34\", \"5\"))\n",
    "\n",
    "print(suma(\"\", \"\"))\n",
    "\n",
    "print(suma(\"2\", \"\"))\n",
    "\n",
    "print(suma(\"-5\", \"3\"))\n",
    "\n",
    "print(suma(\"\", \"6\"))\n"
   ]
  },
  {
   "attachments": {},
   "cell_type": "markdown",
   "metadata": {},
   "source": [
    "2. El objetivo es comparar cada par de enteros de 2 listas, y devolver una nueva lista con el número mayor de la comapración..\n",
    "   \n",
    "- Probad la función para las siguientes listas: \n",
    "  \n",
    "- arr1 = [13, 64, 15, 17, 88]\n",
    "- arr2 = [23, 14, 53, 17, 80]\n",
    "- resultado = [23, 64, 53, 17, 88]\n",
    "\n",
    "- 💡 Pista 💡 En Python existe el método zip."
   ]
  },
  {
   "cell_type": "code",
   "execution_count": 9,
   "metadata": {},
   "outputs": [],
   "source": [
    "arr1 = [13, 64, 15, 17, 88]\n",
    "arr2 = [23, 14, 53, 17, 80]"
   ]
  },
  {
   "cell_type": "code",
   "execution_count": 10,
   "metadata": {},
   "outputs": [],
   "source": [
    "def comparacion(arr1, arr2):\n",
    "    lista_num_mayores = []\n",
    "    for x, y in zip(arr1, arr2):\n",
    "        if x > y: \n",
    "            lista_num_mayores.append(x)\n",
    "         \n",
    "        else:\n",
    "            lista_num_mayores.append(y)  \n",
    "        \n",
    "    return lista_num_mayores\n",
    "        "
   ]
  },
  {
   "cell_type": "code",
   "execution_count": 11,
   "metadata": {},
   "outputs": [
    {
     "data": {
      "text/plain": [
       "[23, 64, 53, 17, 88]"
      ]
     },
     "execution_count": 11,
     "metadata": {},
     "output_type": "execute_result"
    }
   ],
   "source": [
    "comparacion(arr1, arr2)"
   ]
  },
  {
   "attachments": {},
   "cell_type": "markdown",
   "metadata": {},
   "source": [
    "3.El objetivo de este ejercicio es convertir un string en un nuevo string en el que cada carácter del nuevo string es \"(\" si ese carácter aparece sólo una vez en el string original, o \")\" si ese carácter aparece más de una vez en el string. Nuestro código no tiene que ser case sensitive, es decir, si hay una letra en mayúscula y en minúscula cuenta como dos apariciones.\n",
    "Probad la función para los siguientes strings \n",
    "​\n",
    "\"din\"      =>  \"(((\"\n",
    "\"recede\"   =>  \"()()()\"\n",
    "\"Success\"  =>  \")())())\"\n",
    "\"(( @\"     =>  \"))((\" \n",
    "\"Ocvl@GamFLAFkixkS\" => \"((()(()()))))(()(\""
   ]
  },
  {
   "cell_type": "code",
   "execution_count": 1,
   "metadata": {},
   "outputs": [],
   "source": [
    "def nuevo_string(a):\n",
    "    a = a.lower()\n",
    "    lista_string = list(a)\n",
    "    keys = []\n",
    "    values = []\n",
    "\n",
    "    for char in lista_string:\n",
    "        if lista_string.count(char) <= 1:\n",
    "            keys.append(char)\n",
    "            values.append(\"(\")\n",
    "        else: \n",
    "            keys.append(char)\n",
    "            values.append(\")\")\n",
    "        \n",
    "        resultado = \"\".join(values)\n",
    "    \n",
    "    return resultado"
   ]
  },
  {
   "attachments": {},
   "cell_type": "markdown",
   "metadata": {},
   "source": [
    "\"din\"      =>  \"(((\"\n",
    "\"recede\"   =>  \"()()()\"\n",
    "\"Success\"  =>  \")())())\"\n",
    "\"(( @\"     =>  \"))((\" \n",
    "\"Ocvl@GamFLAFkixkS\" => \"((()(()()))))(()(\""
   ]
  },
  {
   "cell_type": "code",
   "execution_count": 2,
   "metadata": {},
   "outputs": [
    {
     "data": {
      "text/plain": [
       "'((('"
      ]
     },
     "execution_count": 2,
     "metadata": {},
     "output_type": "execute_result"
    }
   ],
   "source": [
    "nuevo_string(\"din\")"
   ]
  },
  {
   "cell_type": "code",
   "execution_count": 3,
   "metadata": {},
   "outputs": [
    {
     "data": {
      "text/plain": [
       "'()()()'"
      ]
     },
     "execution_count": 3,
     "metadata": {},
     "output_type": "execute_result"
    }
   ],
   "source": [
    "nuevo_string(\"recede\")"
   ]
  },
  {
   "cell_type": "code",
   "execution_count": 4,
   "metadata": {},
   "outputs": [
    {
     "data": {
      "text/plain": [
       "')())())'"
      ]
     },
     "execution_count": 4,
     "metadata": {},
     "output_type": "execute_result"
    }
   ],
   "source": [
    "nuevo_string(\"Success\")"
   ]
  },
  {
   "cell_type": "code",
   "execution_count": 5,
   "metadata": {},
   "outputs": [
    {
     "data": {
      "text/plain": [
       "'))(('"
      ]
     },
     "execution_count": 5,
     "metadata": {},
     "output_type": "execute_result"
    }
   ],
   "source": [
    "nuevo_string(\"(( @\")"
   ]
  },
  {
   "cell_type": "code",
   "execution_count": 6,
   "metadata": {},
   "outputs": [
    {
     "data": {
      "text/plain": [
       "'((()(()()))))(()('"
      ]
     },
     "execution_count": 6,
     "metadata": {},
     "output_type": "execute_result"
    }
   ],
   "source": [
    "nuevo_string(\"Ocvl@GamFLAFkixkS\")"
   ]
  },
  {
   "attachments": {},
   "cell_type": "markdown",
   "metadata": {},
   "source": [
    "\n",
    "BONUS 4. A Pete le gusta hacer pasteles. Tiene algunas recetas e ingredientes. Desgraciadamente, no se le dan bien las matemáticas. ¿Puedes ayudarle a averiguar cuántas tartas puede hacer teniendo en cuenta sus recetas?\n",
    "Escribid una función,  que tome la receta (diccionario) y los ingredientes disponibles (también un diccionario) y devuelva el número máximo de pasteles que Pete puede hornear (entero). Para simplificar, no hay unidades para las cantidades (por ejemplo, 1 libra de harina o 200 g de azúcar son simplemente 1 o 200). Los ingredientes que no están presentes en los diccionarios, pueden ser considerados como 0.\n",
    "​\n",
    "```\n",
    "Probad con los siguientes diccionarios: \n",
    "​\n",
    "RECETA {'flour': 500, 'sugar': 200, 'eggs': 1}, \n",
    "INGREDIENTES {'flour': 1200, 'sugar': 1200, 'eggs': 5, 'milk': 200}\n",
    "​\n",
    "RESULTADO: 2 \n",
    "----------\n",
    "​\n",
    "RECETA {'apples': 3, 'flour': 300, 'sugar': 150, 'milk': 100, 'oil': 100}\n",
    "INGREDIENTES {'sugar': 500, 'flour': 2000, 'milk': 2000}\n",
    "​\n",
    "RESULTADO 0\n",
    "``` \n",
    "**Pista**: Nuestra función recibirá dos parámetros. \n",
    "BONUS 5. Escribid una función que va a ser una calculadora. La lista recibirá dos parámetros, una lista de números y un string con la operación que queremos hacer (puede ser \"*\", \"+\")\n",
    "``` \n",
    "Probad con los siguientes inputs\n",
    "​\n",
    "lista1 = [11, 6, 98, 1, 2] , \"*\"\n",
    "RESULTADO 12936\n",
    "​\n",
    "-----------------------------------\n",
    "lista2 = [23,34, 56, 11, 90] , \"+\"\n",
    "RESULTADO 214\n",
    "​\n",
    "-----------------------------------\n",
    "lista3 = [23, 4,109 , 94, 77] , \"-\"\n",
    "RESULTADO 'Lo siento, necesito que me pases una operación valida.'"
   ]
  },
  {
   "cell_type": "code",
   "execution_count": null,
   "metadata": {},
   "outputs": [],
   "source": []
  },
  {
   "attachments": {},
   "cell_type": "markdown",
   "metadata": {},
   "source": [
    "BONUS 5. Escribid una función que va a ser una calculadora. La lista recibirá dos parámetros, una lista de números y un string con la operación que queremos hacer (puede ser \"*\", \"+\")\n",
    "``` \n",
    "Probad con los siguientes inputs\n",
    "\n",
    "lista1 = [11, 6, 98, 1, 2] , \"*\"\n",
    "RESULTADO 12936\n",
    "\n",
    "-----------------------------------\n",
    "lista2 = [23,34, 56, 11, 90] , \"+\"\n",
    "RESULTADO 214\n",
    "\n",
    "-----------------------------------\n",
    "lista3 = [23, 4,109 , 94, 77] , \"-\"\n",
    "RESULTADO 'Lo siento, necesito que me pases una operación valida.'\n",
    "```"
   ]
  },
  {
   "cell_type": "code",
   "execution_count": null,
   "metadata": {},
   "outputs": [],
   "source": []
  }
 ],
 "metadata": {
  "kernelspec": {
   "display_name": "Python 3",
   "language": "python",
   "name": "python3"
  },
  "language_info": {
   "codemirror_mode": {
    "name": "ipython",
    "version": 3
   },
   "file_extension": ".py",
   "mimetype": "text/x-python",
   "name": "python",
   "nbconvert_exporter": "python",
   "pygments_lexer": "ipython3",
<<<<<<< HEAD
   "version": "3.9.7"
=======
   "version": "3.11.0 (v3.11.0:deaf509e8f, Oct 24 2022, 14:43:23) [Clang 13.0.0 (clang-1300.0.29.30)]"
>>>>>>> 975093e0f6e428388060cb73ff874c6cd95598a6
  },
  "orig_nbformat": 4,
  "vscode": {
   "interpreter": {
    "hash": "aee8b7b246df8f9039afb4144a1f6fd8d2ca17a180786b69acc140d282b71a49"
   }
  }
 },
 "nbformat": 4,
 "nbformat_minor": 2
}
