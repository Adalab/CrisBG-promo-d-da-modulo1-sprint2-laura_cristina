{
 "cells": [
  {
   "attachments": {},
   "cell_type": "markdown",
   "metadata": {},
   "source": [
    "1. Vamos a crear una \"Calculadora de puntos\". Tenéis que escribir una calculadora que reciba cadenas de caracteres como entrada. Los puntos representarán el número de la ecuación. Habrá puntos en un lado, un operador, y puntos de nuevo después del oparador. Los puntos y el operador estarán separados por un espacio.\n",
    "Aquí os dejamos los operadores válidos:\n",
    "Suma\n",
    "Resta\n",
    "Multiplicación\n",
    "División entera\n",
    "Vuestro trabajo\n",
    "Tendréis que devolver un string que contenga puntos, tantos como devuelva la ecuación. Si el resultado es 0, devuelve la cadena vacía. Cuando se trata de una resta, el primer número siempre será mayor o igual que el segundo.\n",
    "\n",
    "Probad la función con los siguientes casos: \n",
    "\n",
    "\"..... + ...............\" => \"....................\"\n",
    "\"..... - ...\" => \"..\"\n",
    "\"..... * ...\" => \"...............\"\n",
    "\"..... // ..\" => \"..\"\n",
    "\". // ..\" => \"\"\n",
    "\".. - ..\" => \"\""
   ]
  },
  {
   "cell_type": "code",
   "execution_count": 10,
   "metadata": {},
   "outputs": [],
   "source": [
    "def calculadora(*args, operacion = \"multiplicacion\"):\n",
    "\n",
    "    args = [*args]\n",
    "    \n",
    "    if operacion == \"multiplicacion\":\n",
    "       operacion = \"*\"\n",
    "       resultado= [len(args[0])*len(args[1])]              #almacenamos el integer resultado en una lista\n",
    "    elif operacion == \"suma\":\n",
    "        operacion = \"+\"\n",
    "        resultado = [len(args[0])+len(args[1])]  \n",
    "    elif operacion == \"resta\":\n",
    "        operacion = \"-\"\n",
    "        resultado = [len(args[0])-len(args[1])] \n",
    "    elif operacion == \"division\":\n",
    "        operacion = \"/\"\n",
    "        resultado = [len(args[0])//len(args[1])]\n",
    "        \n",
    "    for n in resultado:\n",
    "        n1 = n*(\".\")\n",
    "        resultado.remove(n)\n",
    "        resultado.append(n1)\n",
    "        resultado = \"\".join(resultado)\n",
    "\n",
    "    return print(f\"{args[0]} {operacion} {args[1]} => {resultado}\")\n",
    " "
   ]
  },
  {
   "cell_type": "code",
   "execution_count": 11,
   "metadata": {},
   "outputs": [
    {
     "name": "stdout",
     "output_type": "stream",
     "text": [
      "..... / .. => ..\n"
     ]
    }
   ],
   "source": [
    "calculadora(\".....\", \"..\", operacion = \"division\")\n"
   ]
  },
  {
   "cell_type": "code",
   "execution_count": 12,
   "metadata": {},
   "outputs": [
    {
     "name": "stdout",
     "output_type": "stream",
     "text": [
      ".... * .. => ........\n"
     ]
    }
   ],
   "source": [
    "calculadora(\"....\", \"..\", operacion = \"multiplicacion\")"
   ]
  },
  {
   "cell_type": "code",
   "execution_count": 13,
   "metadata": {},
   "outputs": [
    {
     "name": "stdout",
     "output_type": "stream",
     "text": [
      ".. - .. => \n"
     ]
    }
   ],
   "source": [
    "calculadora(\"..\", \"..\", operacion = \"resta\")"
   ]
  },
  {
   "cell_type": "code",
   "execution_count": 14,
   "metadata": {},
   "outputs": [
    {
     "name": "stdout",
     "output_type": "stream",
     "text": [
      ".... + .. => ......\n"
     ]
    }
   ],
   "source": [
    "calculadora(\"....\", \"..\", operacion = \"suma\")"
   ]
  },
  {
   "attachments": {},
   "cell_type": "markdown",
   "metadata": {},
   "source": [
    "2. Te despides de tu mejor amigo, \"Nos vemos el próximo año\".\n",
    "Vuestro trabajo: Dado un año, encuentra el próximo cumpleaños o el año más cercano en el que verás a tu mejor amigo.\n",
    "Condiciones\n",
    "Año siempre positivo.\n",
    "El siguiente año que le felicites a tu mejor amigo no puede tener ningún dígito repetido.\n",
    "\n",
    "Probad la función con los siguientes casos:\n",
    "\n",
    "7712 ==> El siguiente año que felicitarás a tu amigo será el 7801. \n",
    "Por que es el siguiente año en el que no hay ninguún dígito repetido. \n",
    "\n",
    "\n",
    "1001 => 1023 \n",
    "\n",
    "1123 => 1203\n",
    "\n",
    "2001 => 2013"
   ]
  },
  {
   "cell_type": "code",
   "execution_count": null,
   "metadata": {},
   "outputs": [],
   "source": [
    "# corregido en tutoría\n",
    "\n",
    "def nos_veremos(year): \n",
    "\n",
    "    happy_birthday = year + 1\n",
    "    \n",
    "    while len(set(str(happy_birthday))) != 4:\n",
    "        happy_birthday += 1\n",
    "    return happy_birthday "
   ]
  },
  {
   "cell_type": "code",
   "execution_count": null,
   "metadata": {},
   "outputs": [
    {
     "data": {
      "text/plain": [
       "2013"
      ]
     },
     "execution_count": 2,
     "metadata": {},
     "output_type": "execute_result"
    }
   ],
   "source": [
    "nos_veremos(2001)"
   ]
  },
  {
   "attachments": {},
   "cell_type": "markdown",
   "metadata": {},
   "source": [
    "3. Tenéis que crear un función que chequee la vida de un evaporador que contiene un gas.\n",
    "Conocemos el contenido del evaporador (contenido en ml), el porcentaje de gas que se pierde cada día y el umbral en porcentaje a partir del cual el evaporador deja de ser útil. Todos los números serán estrictamente positivos.\n",
    "⚠️ Nota: el contenido no es, de hecho, necesario en el cuerpo de la función, podéis utilizarlo o no.\n",
    "\n",
    "Probad con los siguientes casos: \n",
    "\n",
    "10, 10, 5 => 29\n",
    "\n",
    "10, 10, 10 = > 22"
   ]
  },
  {
   "cell_type": "code",
   "execution_count": 17,
   "metadata": {},
   "outputs": [],
   "source": [
    "\n",
    "def evaporador (contenido_evap, perdida_gas, umbral):\n",
    "    \n",
    "    while contenido_evap > umbral:\n",
    "        contenido_evap -=(contenido_evap * perdida_gas/100)\n",
    "        dias = +- 1\n",
    "        \n",
    "        return\n",
    "        \n",
    "\n",
    "\n"
   ]
  },
  {
   "attachments": {},
   "cell_type": "markdown",
   "metadata": {},
   "source": [
    "4. Definid una función que tome como argumento un entero y devuelva True o False dependiendo de si el número es primo o no.\n",
    "Según la Wikipedia, un número primo es un número natural mayor que 1 que no tiene divisores positivos más que 1 y él mismo.\n",
    "\n",
    "Probad la función con los siguientes números: \n",
    "\n",
    "0 => False\n",
    "2 => True\n",
    "73 => True\n",
    "-1 => False\n",
    "5099 => True"
   ]
  },
  {
   "cell_type": "code",
   "execution_count": null,
   "metadata": {},
   "outputs": [],
   "source": [
    "def es_primo(num):\n",
    "    \"\"\"Esta función permite saber si un número es primo\n",
    "\n",
    "    Args:\n",
    "        num (int): cualquier numero natural\n",
    "\n",
    "    Returns:\n",
    "        _bool_: indica True si el número es primo o False si no lo es\n",
    "    \"\"\"\n",
    "    if num < 1:\n",
    "        return False\n",
    "    elif num == 2:\n",
    "        return True\n",
    "    else:\n",
    "        for i in range(2, num):\n",
    "            if num % i == 0:\n",
    "                return False\n",
    "        return True\n",
    "\n"
   ]
  },
  {
   "cell_type": "code",
   "execution_count": null,
   "metadata": {},
   "outputs": [
    {
     "data": {
      "text/plain": [
       "True"
      ]
     },
     "execution_count": 4,
     "metadata": {},
     "output_type": "execute_result"
    }
   ],
   "source": [
    "es_primo(5099)"
   ]
  },
  {
   "attachments": {},
   "cell_type": "markdown",
   "metadata": {},
   "source": [
    "5. Probablemente conozcais el sistema de \"me gusta\" de Facebook y otras páginas. La gente puede dar \"me gusta\" a las publicaciones del blog, a las imágenes o a otros elementos. Queremos crear el texto que debe mostrarse junto a dicho elemento.\n",
    "Cread una función que toma una lista que contiene los nombres de las personas a las que les gusta un artículo. Debe devolver el texto que se muestra en los ejemplos:\n",
    "\n",
    "Probad los siguientes ejemplos: \n",
    "\n",
    "[]                              -->  \"A nadie le gusta esto\"\n",
    "[\"Paola\"]                       -->  \"A Paola le gusta esto\"\n",
    "[\"Jacoba\", \"Alex\"]               -->  \"A Jacoba y Alex les gusta esto\"\n",
    "[\"Maria\", \"Juana\", \"Lola\"]         -->  \"A Maria, Juana y Lola les gusta esto\"\n",
    "[\"Alex\", \"Jacoba\", \"Lola\", \"Carmen\"]-->  \"A Alex, Jacob ay 2 más les gusta esto\"\n",
    "[\"Alex\", \"Jacoba\", \"Lola\", \"Carmen\", \"Mariana\"]-->  \"A Alex, Jacoba y 3 más les gusta esto\"\n",
    "\n",
    "Nota: Para 4 o más nombres, el número en \"y otros 2\" simplemente aumenta."
   ]
  },
  {
   "cell_type": "code",
   "execution_count": 21,
   "metadata": {},
   "outputs": [],
   "source": [
    "lista_nombres = [\"Alex\", \"Jacoba\", \"Lola\", \"Carmen\", \"Mariana\"]\n",
    "\n",
    "\"\"\"Esta función nos permite tomar una lista que contiene \n",
    "     los nombres de las personas a las que les gusta un artículo en Facebook (likes)\n",
    "     \n",
    "    Parametro:\n",
    "        (lista_personas): una lista con x strings como ementos \n",
    "\n",
    "    \"\"\"  \n",
    "    \n",
    "def contar_likes(lista_personas): \n",
    "    \n",
    "    if len(lista_personas) == 0:\n",
    "        print(\"A nadie le gusta esto\")\n",
    "\n",
    "    elif len(lista_personas) == 1:\n",
    "        print(f\"A {lista_personas[0]} le gusta esto\")\n",
    "\n",
    "    elif len(lista_personas) == 2:\n",
    "        print(f\"A {lista_personas[0]} y {lista_personas[1]} les gusta esto\")\n",
    "\n",
    "    elif len(lista_personas) == 3:\n",
    "        print(f\"A {lista_personas[0]} , {lista_personas[1]} y {lista_personas[2]} les gusta esto\")\n",
    "\n",
    "    elif len(lista_personas) > 3:\n",
    "        print(f\"A {lista_personas[0]} , {lista_personas[1]} y {len(lista_personas[2:])} les gusta esto\")\n"
   ]
  },
  {
   "cell_type": "code",
   "execution_count": 23,
   "metadata": {},
   "outputs": [
    {
     "name": "stdout",
     "output_type": "stream",
     "text": [
      "A Alex , Jacoba y 3 les gusta esto\n"
     ]
    }
   ],
   "source": [
    "contar_likes(lista_nombres)"
   ]
  }
 ],
 "metadata": {
  "kernelspec": {
   "display_name": "Python 3",
   "language": "python",
   "name": "python3"
  },
  "language_info": {
   "codemirror_mode": {
    "name": "ipython",
    "version": 3
   },
   "file_extension": ".py",
   "mimetype": "text/x-python",
   "name": "python",
   "nbconvert_exporter": "python",
   "pygments_lexer": "ipython3",
   "version": "3.11.0 (v3.11.0:deaf509e8f, Oct 24 2022, 14:43:23) [Clang 13.0.0 (clang-1300.0.29.30)]"
  },
  "orig_nbformat": 4,
  "vscode": {
   "interpreter": {
    "hash": "aee8b7b246df8f9039afb4144a1f6fd8d2ca17a180786b69acc140d282b71a49"
   }
  }
 },
 "nbformat": 4,
 "nbformat_minor": 2
}
