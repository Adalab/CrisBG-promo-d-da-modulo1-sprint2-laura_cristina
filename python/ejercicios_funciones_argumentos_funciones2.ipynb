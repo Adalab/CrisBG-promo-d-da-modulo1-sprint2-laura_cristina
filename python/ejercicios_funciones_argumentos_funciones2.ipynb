{
 "cells": [
  {
   "attachments": {},
   "cell_type": "markdown",
   "metadata": {},
   "source": [
    "1. Vamos a crear una \"Calculadora de puntos\". Tenéis que escribir una calculadora que reciba cadenas de caracteres como entrada. Los puntos representarán el número de la ecuación. Habrá puntos en un lado, un operador, y puntos de nuevo después del oparador. Los puntos y el operador estarán separados por un espacio.\n",
    "Aquí os dejamos los operadores válidos:\n",
    "Suma\n",
    "Resta\n",
    "Multiplicación\n",
    "División entera\n",
    "Vuestro trabajo\n",
    "Tendréis que devolver un string que contenga puntos, tantos como devuelva la ecuación. Si el resultado es 0, devuelve la cadena vacía. Cuando se trata de una resta, el primer número siempre será mayor o igual que el segundo.\n",
    "\n",
    "Probad la función con los siguientes casos: \n",
    "\n",
    "\"..... + ...............\" => \"....................\"\n",
    "\"..... - ...\" => \"..\"\n",
    "\"..... * ...\" => \"...............\"\n",
    "\"..... // ..\" => \"..\"\n",
    "\". // ..\" => \"\"\n",
    "\".. - ..\" => \"\""
   ]
  },
  {
   "cell_type": "code",
   "execution_count": 6,
   "metadata": {},
   "outputs": [],
   "source": [
    "def calculadora(*args, operacion = \"multiplicacion\"):\n",
    "    \"\"\" Esta función es una calculadora de cadenas de caracteres. Toma como argumentos dos cadenas de caracteres y una operación. \n",
    "    Retorna una cadena de caracteres con las operaciones realizadas\"\"\"\n",
    "        \n",
    "    args = [*args]\n",
    "    \n",
    "    if operacion == \"multiplicacion\":\n",
    "       operacion = \"*\"\n",
    "       resultado= [len(args[0])*len(args[1])]             \n",
    "    elif operacion == \"suma\":\n",
    "        operacion = \"+\"\n",
    "        resultado = [len(args[0])+len(args[1])]  \n",
    "    elif operacion == \"resta\":\n",
    "        operacion = \"-\"\n",
    "        resultado = [len(args[0])-len(args[1])] \n",
    "    elif operacion == \"division\":\n",
    "        operacion = \"/\"\n",
    "        resultado = [len(args[0])//len(args[1])]\n",
    "        \n",
    "    for n in resultado:\n",
    "        n1 = n*(\".\")\n",
    "        resultado.remove(n)\n",
    "        resultado.append(n1)\n",
    "        resultado = \"\".join(resultado)\n",
    "\n",
    "    return print(f\"{args[0]} {operacion} {args[1]} => {resultado}\")\n",
    " "
   ]
  },
  {
   "cell_type": "code",
   "execution_count": 7,
   "metadata": {},
   "outputs": [
    {
     "name": "stdout",
     "output_type": "stream",
     "text": [
      "..... / .. => ..\n"
     ]
    }
   ],
   "source": [
    "calculadora(\".....\", \"..\", operacion = \"division\")\n"
   ]
  },
  {
   "cell_type": "code",
   "execution_count": 8,
   "metadata": {},
   "outputs": [
    {
     "name": "stdout",
     "output_type": "stream",
     "text": [
      ".... * .. => ........\n"
     ]
    }
   ],
   "source": [
    "calculadora(\"....\", \"..\", operacion = \"multiplicacion\")"
   ]
  },
  {
   "cell_type": "code",
   "execution_count": 9,
   "metadata": {},
   "outputs": [
    {
     "name": "stdout",
     "output_type": "stream",
     "text": [
      ".. - .. => \n"
     ]
    }
   ],
   "source": [
    "calculadora(\"..\", \"..\", operacion = \"resta\")"
   ]
  },
  {
   "cell_type": "code",
   "execution_count": 10,
   "metadata": {},
   "outputs": [
    {
     "name": "stdout",
     "output_type": "stream",
     "text": [
      ".... + .. => ......\n"
     ]
    }
   ],
   "source": [
    "calculadora(\"....\", \"..\", operacion = \"suma\")"
   ]
  },
  {
   "attachments": {},
   "cell_type": "markdown",
   "metadata": {},
   "source": [
    "2. Te despides de tu mejor amigo, \"Nos vemos el próximo año\".\n",
    "Vuestro trabajo: Dado un año, encuentra el próximo cumpleaños o el año más cercano en el que verás a tu mejor amigo.\n",
    "Condiciones\n",
    "Año siempre positivo.\n",
    "El siguiente año que le felicites a tu mejor amigo no puede tener ningún dígito repetido.\n",
    "\n",
    "Probad la función con los siguientes casos:\n",
    "\n",
    "7712 ==> El siguiente año que felicitarás a tu amigo será el 7801. \n",
    "Por que es el siguiente año en el que no hay ninguún dígito repetido. \n",
    "\n",
    "\n",
    "1001 => 1023 \n",
    "\n",
    "1123 => 1203\n",
    "\n",
    "2001 => 2013"
   ]
  },
  {
   "cell_type": "code",
   "execution_count": 4,
   "metadata": {},
   "outputs": [],
   "source": [
    "def nos_veremos(year): \n",
    "\n",
    "    \"\"\"Esta función te da el próximo año de felicitación a un amigo bajo la premisa de que ese año no puede tener dígitos repetidos.\n",
    "       Arg: toma como argumento un año\n",
    "       Returns: un año, el primero que cumpla la condición estipulada de no tener dígitos repetidos\n",
    "    \"\"\"\n",
    "\n",
    "    happy_birthday = year + 1\n",
    "    \n",
    "    while len(set(str(happy_birthday))) != 4:\n",
    "        happy_birthday += 1\n",
    "    return happy_birthday "
   ]
  },
  {
   "cell_type": "code",
   "execution_count": 5,
   "metadata": {},
   "outputs": [
    {
     "data": {
      "text/plain": [
       "2013"
      ]
     },
     "execution_count": 5,
     "metadata": {},
     "output_type": "execute_result"
    }
   ],
   "source": [
    "nos_veremos(2001)"
   ]
  },
  {
   "attachments": {},
   "cell_type": "markdown",
   "metadata": {},
   "source": [
    "3. Tenéis que crear un función que chequee la vida de un evaporador que contiene un gas.\n",
    "Conocemos el contenido del evaporador (contenido en ml), el porcentaje de gas que se pierde cada día y el umbral en porcentaje a partir del cual el evaporador deja de ser útil. Todos los números serán estrictamente positivos.\n",
    "⚠️ Nota: el contenido no es, de hecho, necesario en el cuerpo de la función, podéis utilizarlo o no.\n",
    "\n",
    "Probad con los siguientes casos: \n",
    "\n",
    "10, 10, 5 => 29\n",
    "\n",
    "10, 10, 10 = > 22"
   ]
  },
  {
   "cell_type": "code",
   "execution_count": 1,
   "metadata": {},
   "outputs": [],
   "source": [
    "def evaporador(contenido, evaporacion, umbral):\n",
    "    \"\"\"Esta función permite saber cuanto va a durar un evaporador, considerando su contenido, el porcentaje de gas que pierde y el umbral a partir del que deja de funcionar\n",
    "    \n",
    "        Args: contenido del evaporador en ml y evaporación por día y umbral de funcionamiento en porcentaje. La función toma los argumentos como números enteros y convierte los porcentajes\n",
    "\n",
    "        Returns: el número de dias que va a durar el evaporador\n",
    "    \"\"\"\n",
    "\n",
    "    cont_evap = contenido\n",
    "    evap_por_dia = evaporacion\n",
    "    umbral_funcionamiento = umbral\n",
    "\n",
    "    umbral_funcionamiento = cont_evap * umbral_funcionamiento / 100\n",
    "    dias = 0\n",
    "\n",
    "    while cont_evap >= umbral_funcionamiento:\n",
    "        cont_evap -= cont_evap * evap_por_dia / 100\n",
    "        dias += 1\n",
    "    return dias\n",
    "\n",
    "        \n",
    "\n",
    "\n"
   ]
  },
  {
   "cell_type": "code",
   "execution_count": 2,
   "metadata": {},
   "outputs": [
    {
     "data": {
      "text/plain": [
       "29"
      ]
     },
     "execution_count": 2,
     "metadata": {},
     "output_type": "execute_result"
    }
   ],
   "source": [
    "evaporador(10, 10, 5)"
   ]
  },
  {
   "cell_type": "code",
   "execution_count": 3,
   "metadata": {},
   "outputs": [
    {
     "data": {
      "text/plain": [
       "22"
      ]
     },
     "execution_count": 3,
     "metadata": {},
     "output_type": "execute_result"
    }
   ],
   "source": [
    "evaporador(10,10,10)"
   ]
  },
  {
   "attachments": {},
   "cell_type": "markdown",
   "metadata": {},
   "source": [
    "4. Definid una función que tome como argumento un entero y devuelva True o False dependiendo de si el número es primo o no.\n",
    "Según la Wikipedia, un número primo es un número natural mayor que 1 que no tiene divisores positivos más que 1 y él mismo.\n",
    "\n",
    "Probad la función con los siguientes números: \n",
    "\n",
    "0 => False\n",
    "2 => True\n",
    "73 => True\n",
    "-1 => False\n",
    "5099 => True"
   ]
  },
  {
   "cell_type": "code",
   "execution_count": null,
   "metadata": {},
   "outputs": [],
   "source": [
    "def es_primo(num):\n",
    "    \"\"\"Esta función permite saber si un número es primo\n",
    "\n",
    "    Args:\n",
    "        num (int): cualquier numero natural\n",
    "\n",
    "    Returns:\n",
    "        _bool_: indica True si el número es primo o False si no lo es\n",
    "    \"\"\"\n",
    "    if num < 1:\n",
    "        return False\n",
    "    elif num == 2:\n",
    "        return True\n",
    "    else:\n",
    "        for i in range(2, num):\n",
    "            if num % i == 0:\n",
    "                return False\n",
    "        return True\n",
    "\n"
   ]
  },
  {
   "cell_type": "code",
   "execution_count": null,
   "metadata": {},
   "outputs": [
    {
     "data": {
      "text/plain": [
       "True"
      ]
     },
     "execution_count": 4,
     "metadata": {},
     "output_type": "execute_result"
    }
   ],
   "source": [
    "es_primo(5099)"
   ]
  },
  {
   "attachments": {},
   "cell_type": "markdown",
   "metadata": {},
   "source": [
    "5. Probablemente conozcais el sistema de \"me gusta\" de Facebook y otras páginas. La gente puede dar \"me gusta\" a las publicaciones del blog, a las imágenes o a otros elementos. Queremos crear el texto que debe mostrarse junto a dicho elemento.\n",
    "Cread una función que toma una lista que contiene los nombres de las personas a las que les gusta un artículo. Debe devolver el texto que se muestra en los ejemplos:\n",
    "\n",
    "Probad los siguientes ejemplos: \n",
    "\n",
    "[]                              -->  \"A nadie le gusta esto\"\n",
    "[\"Paola\"]                       -->  \"A Paola le gusta esto\"\n",
    "[\"Jacoba\", \"Alex\"]               -->  \"A Jacoba y Alex les gusta esto\"\n",
    "[\"Maria\", \"Juana\", \"Lola\"]         -->  \"A Maria, Juana y Lola les gusta esto\"\n",
    "[\"Alex\", \"Jacoba\", \"Lola\", \"Carmen\"]-->  \"A Alex, Jacob ay 2 más les gusta esto\"\n",
    "[\"Alex\", \"Jacoba\", \"Lola\", \"Carmen\", \"Mariana\"]-->  \"A Alex, Jacoba y 3 más les gusta esto\"\n",
    "\n",
    "Nota: Para 4 o más nombres, el número en \"y otros 2\" simplemente aumenta."
   ]
  },
  {
   "cell_type": "code",
   "execution_count": 21,
   "metadata": {},
   "outputs": [],
   "source": [
    "lista_nombres = [\"Alex\", \"Jacoba\", \"Lola\", \"Carmen\", \"Mariana\"]\n",
    "\n",
    "\n",
    "def contar_likes(lista_personas): \n",
    "\n",
    "    \"\"\"\n",
    "    Esta función nos permite tomar una lista que contiene los nombres de las personas a las que les gusta un artículo en Facebook (likes)\n",
    "     \n",
    "    Parametro:\n",
    "        (lista_personas): una lista con x strings como elementos \n",
    "    \n",
    "    Returns: indica a cuantas personas de la lista les gusta el contenido o que a nadie le gusta\n",
    "    \"\"\"  \n",
    "    \n",
    "    if len(lista_personas) == 0:\n",
    "        print(\"A nadie le gusta esto\")\n",
    "\n",
    "    elif len(lista_personas) == 1:\n",
    "        print(f\"A {lista_personas[0]} le gusta esto\")\n",
    "\n",
    "    elif len(lista_personas) == 2:\n",
    "        print(f\"A {lista_personas[0]} y {lista_personas[1]} les gusta esto\")\n",
    "\n",
    "    elif len(lista_personas) == 3:\n",
    "        print(f\"A {lista_personas[0]} , {lista_personas[1]} y {lista_personas[2]} les gusta esto\")\n",
    "\n",
    "    elif len(lista_personas) > 3:\n",
    "        print(f\"A {lista_personas[0]} , {lista_personas[1]} y {len(lista_personas[2:])} les gusta esto\")\n"
   ]
  },
  {
   "cell_type": "code",
   "execution_count": 23,
   "metadata": {},
   "outputs": [
    {
     "name": "stdout",
     "output_type": "stream",
     "text": [
      "A Alex , Jacoba y 3 les gusta esto\n"
     ]
    }
   ],
   "source": [
    "contar_likes(lista_nombres)"
   ]
  }
 ],
 "metadata": {
  "kernelspec": {
   "display_name": "Python 3",
   "language": "python",
   "name": "python3"
  },
  "language_info": {
   "codemirror_mode": {
    "name": "ipython",
    "version": 3
   },
   "file_extension": ".py",
   "mimetype": "text/x-python",
   "name": "python",
   "nbconvert_exporter": "python",
   "pygments_lexer": "ipython3",
   "version": "3.9.7"
  },
  "orig_nbformat": 4,
  "vscode": {
   "interpreter": {
    "hash": "aee8b7b246df8f9039afb4144a1f6fd8d2ca17a180786b69acc140d282b71a49"
   }
  }
 },
 "nbformat": 4,
 "nbformat_minor": 2
}
